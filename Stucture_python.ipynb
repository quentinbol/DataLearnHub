{
 "cells": [
  {
   "cell_type": "code",
   "execution_count": 1,
   "id": "f1e8199c",
   "metadata": {},
   "outputs": [
    {
     "data": {
      "text/plain": [
       "5.0"
      ]
     },
     "execution_count": 1,
     "metadata": {},
     "output_type": "execute_result"
    }
   ],
   "source": [
    "2.5 + 2.5"
   ]
  },
  {
   "cell_type": "code",
   "execution_count": 2,
   "id": "166d3d2a",
   "metadata": {},
   "outputs": [],
   "source": [
    "a = 2\n",
    "b = 3"
   ]
  },
  {
   "cell_type": "code",
   "execution_count": 3,
   "id": "e53646ee",
   "metadata": {},
   "outputs": [
    {
     "data": {
      "text/plain": [
       "5"
      ]
     },
     "execution_count": 3,
     "metadata": {},
     "output_type": "execute_result"
    }
   ],
   "source": [
    "a + b"
   ]
  },
  {
   "cell_type": "code",
   "execution_count": 4,
   "id": "925b815a",
   "metadata": {},
   "outputs": [],
   "source": [
    "a = 'anouar'"
   ]
  },
  {
   "cell_type": "code",
   "execution_count": 5,
   "id": "32e5f6e1",
   "metadata": {},
   "outputs": [
    {
     "data": {
      "text/plain": [
       "'anouar'"
      ]
     },
     "execution_count": 5,
     "metadata": {},
     "output_type": "execute_result"
    }
   ],
   "source": [
    "a"
   ]
  },
  {
   "cell_type": "code",
   "execution_count": 6,
   "id": "518a7b07",
   "metadata": {},
   "outputs": [
    {
     "data": {
      "text/plain": [
       "str"
      ]
     },
     "execution_count": 6,
     "metadata": {},
     "output_type": "execute_result"
    }
   ],
   "source": [
    "type(a)"
   ]
  },
  {
   "cell_type": "code",
   "execution_count": 7,
   "id": "a55ea002",
   "metadata": {},
   "outputs": [
    {
     "data": {
      "text/plain": [
       "'n'"
      ]
     },
     "execution_count": 7,
     "metadata": {},
     "output_type": "execute_result"
    }
   ],
   "source": [
    "a[1]"
   ]
  },
  {
   "cell_type": "code",
   "execution_count": 8,
   "id": "48889d6a",
   "metadata": {},
   "outputs": [
    {
     "data": {
      "text/plain": [
       "'n'"
      ]
     },
     "execution_count": 8,
     "metadata": {},
     "output_type": "execute_result"
    }
   ],
   "source": [
    "a[-5]"
   ]
  },
  {
   "cell_type": "code",
   "execution_count": 9,
   "id": "0a8cece0",
   "metadata": {},
   "outputs": [
    {
     "name": "stdout",
     "output_type": "stream",
     "text": [
      "salut anouar\n"
     ]
    }
   ],
   "source": [
    "print(f\"salut {a}\")"
   ]
  },
  {
   "cell_type": "code",
   "execution_count": 11,
   "id": "9bfaa1b5",
   "metadata": {},
   "outputs": [
    {
     "name": "stdout",
     "output_type": "stream",
     "text": [
      "salut anouar\n"
     ]
    }
   ],
   "source": [
    "print(\"salut \" +a)"
   ]
  },
  {
   "cell_type": "code",
   "execution_count": 1,
   "id": "627d9868",
   "metadata": {},
   "outputs": [],
   "source": [
    "fruit = (\"banane\", \"pommes\", \"poire\")"
   ]
  },
  {
   "cell_type": "code",
   "execution_count": 2,
   "id": "ac1b3964-bccb-404f-8429-925c6e8dfe10",
   "metadata": {},
   "outputs": [
    {
     "data": {
      "text/plain": [
       "'pommes'"
      ]
     },
     "execution_count": 2,
     "metadata": {},
     "output_type": "execute_result"
    }
   ],
   "source": [
    "fruit[1]"
   ]
  },
  {
   "cell_type": "code",
   "execution_count": 3,
   "id": "b9bce509-8abb-4697-95a1-8f5d94a1d6a4",
   "metadata": {},
   "outputs": [
    {
     "data": {
      "text/plain": [
       "('banane', 'pommes')"
      ]
     },
     "execution_count": 3,
     "metadata": {},
     "output_type": "execute_result"
    }
   ],
   "source": [
    "fruit[:2]"
   ]
  },
  {
   "cell_type": "code",
   "execution_count": 4,
   "id": "a56ab644-dcb4-42bd-9af5-84f040caa0d1",
   "metadata": {},
   "outputs": [],
   "source": [
    "fruit = [\"banane\", \"pommes\", \"poire\"]"
   ]
  },
  {
   "cell_type": "code",
   "execution_count": 5,
   "id": "0b2e4a6c-634c-48e2-9a98-aeeab162438f",
   "metadata": {},
   "outputs": [],
   "source": [
    "fruit[0] = \"Banane\""
   ]
  },
  {
   "cell_type": "code",
   "execution_count": 6,
   "id": "6ff6e9b1-2708-4473-a608-f2d246f08af9",
   "metadata": {},
   "outputs": [
    {
     "data": {
      "text/plain": [
       "['Banane', 'pommes', 'poire']"
      ]
     },
     "execution_count": 6,
     "metadata": {},
     "output_type": "execute_result"
    }
   ],
   "source": [
    "fruit"
   ]
  },
  {
   "cell_type": "code",
   "execution_count": 7,
   "id": "a5f25281-b296-4739-9f78-55d46e27444b",
   "metadata": {},
   "outputs": [],
   "source": [
    "age = [1,2,3]"
   ]
  },
  {
   "cell_type": "code",
   "execution_count": 8,
   "id": "d917e23f-9cfa-46a3-90ed-c481db7a2d87",
   "metadata": {},
   "outputs": [
    {
     "data": {
      "text/plain": [
       "[1, 2, 3]"
      ]
     },
     "execution_count": 8,
     "metadata": {},
     "output_type": "execute_result"
    }
   ],
   "source": [
    "age"
   ]
  },
  {
   "cell_type": "code",
   "execution_count": 9,
   "id": "4878e9f8-0105-407b-82df-a60c1ab86ad6",
   "metadata": {},
   "outputs": [],
   "source": [
    "fruit_age = [age, fruit]"
   ]
  },
  {
   "cell_type": "code",
   "execution_count": 10,
   "id": "801d87fc-f761-4e95-a48d-86fd4f61657c",
   "metadata": {},
   "outputs": [
    {
     "data": {
      "text/plain": [
       "[[1, 2, 3], ['Banane', 'pommes', 'poire']]"
      ]
     },
     "execution_count": 10,
     "metadata": {},
     "output_type": "execute_result"
    }
   ],
   "source": [
    "fruit_age"
   ]
  },
  {
   "cell_type": "code",
   "execution_count": 11,
   "id": "d19d3b83-0c44-4254-b1ce-4afa3c38cbce",
   "metadata": {},
   "outputs": [],
   "source": [
    "fruit_age_array = fruit_age"
   ]
  },
  {
   "cell_type": "code",
   "execution_count": 12,
   "id": "4de05173-f43b-4a80-9720-0fee65040e78",
   "metadata": {},
   "outputs": [
    {
     "data": {
      "text/plain": [
       "[[1, 2, 3], ['Banane', 'pommes', 'poire']]"
      ]
     },
     "execution_count": 12,
     "metadata": {},
     "output_type": "execute_result"
    }
   ],
   "source": [
    "fruit_age_array"
   ]
  },
  {
   "cell_type": "code",
   "execution_count": 13,
   "id": "05e4bf25-5a69-4247-9fe4-459350b016bd",
   "metadata": {},
   "outputs": [],
   "source": [
    "fruit_age_array2 = [fruit_age_array, fruit_age]"
   ]
  },
  {
   "cell_type": "code",
   "execution_count": 14,
   "id": "5154607c-d5cb-4fe2-b235-b595c61318e0",
   "metadata": {},
   "outputs": [
    {
     "data": {
      "text/plain": [
       "[[[1, 2, 3], ['Banane', 'pommes', 'poire']],\n",
       " [[1, 2, 3], ['Banane', 'pommes', 'poire']]]"
      ]
     },
     "execution_count": 14,
     "metadata": {},
     "output_type": "execute_result"
    }
   ],
   "source": [
    "fruit_age_array2"
   ]
  },
  {
   "cell_type": "code",
   "execution_count": 16,
   "id": "5d515312-04a2-4dfb-8a3e-547ebf1e1cdf",
   "metadata": {},
   "outputs": [
    {
     "data": {
      "text/plain": [
       "'pommes'"
      ]
     },
     "execution_count": 16,
     "metadata": {},
     "output_type": "execute_result"
    }
   ],
   "source": [
    "fruit_age[1][1]"
   ]
  },
  {
   "cell_type": "code",
   "execution_count": 21,
   "id": "1528bc10-6c33-467b-90e0-7fa335d34be5",
   "metadata": {},
   "outputs": [],
   "source": [
    "telephone = {'Quentin': 1234, 'Mohammed': 5678, 'Esteban' : 9012}"
   ]
  },
  {
   "cell_type": "code",
   "execution_count": 22,
   "id": "3e66b8a0-a7f3-45ac-be64-bcde4e23d1a6",
   "metadata": {},
   "outputs": [
    {
     "data": {
      "text/plain": [
       "{'Quentin': 1234, 'Mohammed': 5678, 'Esteban': 9012}"
      ]
     },
     "execution_count": 22,
     "metadata": {},
     "output_type": "execute_result"
    }
   ],
   "source": [
    "telephone"
   ]
  },
  {
   "cell_type": "code",
   "execution_count": 25,
   "id": "8164da99-64db-42ca-aeb2-e3d06b2a40b2",
   "metadata": {},
   "outputs": [
    {
     "data": {
      "text/plain": [
       "1234"
      ]
     },
     "execution_count": 25,
     "metadata": {},
     "output_type": "execute_result"
    }
   ],
   "source": [
    "telephone[\"Quentin\"]"
   ]
  },
  {
   "cell_type": "code",
   "execution_count": 27,
   "id": "9c82b73c-7bc1-42d8-ac80-bfd4ed46dd57",
   "metadata": {},
   "outputs": [],
   "source": [
    "test = [telephone[\"Quentin\"], telephone[\"Esteban\"]]"
   ]
  },
  {
   "cell_type": "code",
   "execution_count": 28,
   "id": "6419d174-0444-41af-9969-c4d963a09cbd",
   "metadata": {},
   "outputs": [
    {
     "data": {
      "text/plain": [
       "[1234, 9012]"
      ]
     },
     "execution_count": 28,
     "metadata": {},
     "output_type": "execute_result"
    }
   ],
   "source": [
    "test"
   ]
  },
  {
   "cell_type": "code",
   "execution_count": 1,
   "id": "d41c25d6-032e-421f-bf3d-41b11d72f007",
   "metadata": {},
   "outputs": [],
   "source": [
    "test = [1, 2, 3, 4]"
   ]
  },
  {
   "cell_type": "code",
   "execution_count": 2,
   "id": "dc036894-888b-4e4e-9859-c8eb121fa09a",
   "metadata": {},
   "outputs": [
    {
     "data": {
      "text/plain": [
       "[1, 2, 3, 4]"
      ]
     },
     "execution_count": 2,
     "metadata": {},
     "output_type": "execute_result"
    }
   ],
   "source": [
    "test"
   ]
  },
  {
   "cell_type": "code",
   "execution_count": 3,
   "id": "5b116c8a-e5b0-4eb3-af5c-116a93323636",
   "metadata": {},
   "outputs": [
    {
     "data": {
      "text/plain": [
       "2"
      ]
     },
     "execution_count": 3,
     "metadata": {},
     "output_type": "execute_result"
    }
   ],
   "source": [
    "test[1]"
   ]
  },
  {
   "cell_type": "code",
   "execution_count": 5,
   "id": "ce14be32-47d5-419f-baba-80627d799a7c",
   "metadata": {},
   "outputs": [],
   "source": [
    "test = {'1': 1, '2' : 2}"
   ]
  },
  {
   "cell_type": "code",
   "execution_count": 6,
   "id": "0d069b8e-6f63-4c8f-b2e6-5d90843fd317",
   "metadata": {},
   "outputs": [
    {
     "data": {
      "text/plain": [
       "1"
      ]
     },
     "execution_count": 6,
     "metadata": {},
     "output_type": "execute_result"
    }
   ],
   "source": [
    "test['1']"
   ]
  },
  {
   "cell_type": "code",
   "execution_count": 8,
   "id": "2cb65a4d-9bd0-412a-9514-1ba44f5ea917",
   "metadata": {},
   "outputs": [],
   "source": [
    "test = {1, 2, 3}"
   ]
  },
  {
   "cell_type": "code",
   "execution_count": 9,
   "id": "87856332-12fa-47bd-9ac5-0fe8d93b0ee9",
   "metadata": {},
   "outputs": [
    {
     "data": {
      "text/plain": [
       "set"
      ]
     },
     "execution_count": 9,
     "metadata": {},
     "output_type": "execute_result"
    }
   ],
   "source": [
    "type(test)"
   ]
  },
  {
   "cell_type": "code",
   "execution_count": 10,
   "id": "cf41bf93-3067-4efb-98f8-859edb5b60c6",
   "metadata": {},
   "outputs": [],
   "source": [
    "test = [1,2,3]"
   ]
  },
  {
   "cell_type": "code",
   "execution_count": 11,
   "id": "61fa74e5-f0f8-42e2-b486-a719c50b905f",
   "metadata": {},
   "outputs": [
    {
     "data": {
      "text/plain": [
       "list"
      ]
     },
     "execution_count": 11,
     "metadata": {},
     "output_type": "execute_result"
    }
   ],
   "source": [
    "type(test)"
   ]
  },
  {
   "cell_type": "code",
   "execution_count": 12,
   "id": "54af34ee-901b-4c33-81c2-a633b6330384",
   "metadata": {},
   "outputs": [],
   "source": [
    "test = (1, 2, 3)"
   ]
  },
  {
   "cell_type": "code",
   "execution_count": 13,
   "id": "dfe594bf-5e96-4b0a-94fc-63cce2f3c0e7",
   "metadata": {},
   "outputs": [
    {
     "data": {
      "text/plain": [
       "tuple"
      ]
     },
     "execution_count": 13,
     "metadata": {},
     "output_type": "execute_result"
    }
   ],
   "source": [
    "type(test)"
   ]
  },
  {
   "cell_type": "code",
   "execution_count": 18,
   "id": "97b3d863-e357-449d-862d-c87d2c0bcb09",
   "metadata": {},
   "outputs": [],
   "source": [
    "test = {'1': 1}"
   ]
  },
  {
   "cell_type": "code",
   "execution_count": 19,
   "id": "cb4f9c94-5db0-47e9-9eab-ccabce96b63a",
   "metadata": {},
   "outputs": [
    {
     "data": {
      "text/plain": [
       "dict"
      ]
     },
     "execution_count": 19,
     "metadata": {},
     "output_type": "execute_result"
    }
   ],
   "source": [
    "type(test)"
   ]
  },
  {
   "cell_type": "code",
   "execution_count": 20,
   "id": "50cf3e8f-4321-4ad1-b648-e06ff3aa8f7a",
   "metadata": {},
   "outputs": [
    {
     "data": {
      "text/plain": [
       "1"
      ]
     },
     "execution_count": 20,
     "metadata": {},
     "output_type": "execute_result"
    }
   ],
   "source": [
    "test['1']"
   ]
  },
  {
   "cell_type": "code",
   "execution_count": 21,
   "id": "533c4781-6319-4835-8d58-a0d44027385c",
   "metadata": {},
   "outputs": [],
   "source": [
    "test = {'1', '2'}"
   ]
  },
  {
   "cell_type": "code",
   "execution_count": 26,
   "id": "7065c042-0993-45db-852d-f42774cad88b",
   "metadata": {},
   "outputs": [],
   "source": [
    "test.add('1')"
   ]
  },
  {
   "cell_type": "code",
   "execution_count": 27,
   "id": "38295b5b-15ff-4924-9ed4-a6777465f08a",
   "metadata": {},
   "outputs": [
    {
     "data": {
      "text/plain": [
       "{'1', '2'}"
      ]
     },
     "execution_count": 27,
     "metadata": {},
     "output_type": "execute_result"
    }
   ],
   "source": [
    "test"
   ]
  },
  {
   "cell_type": "code",
   "execution_count": 28,
   "id": "f6fe980c-2775-40c2-8f67-00d0fb9b3c00",
   "metadata": {},
   "outputs": [],
   "source": [
    "test.remove('1')"
   ]
  },
  {
   "cell_type": "code",
   "execution_count": 29,
   "id": "72fd8cb0-ddbe-43bc-81eb-d6e4f2065854",
   "metadata": {},
   "outputs": [
    {
     "data": {
      "text/plain": [
       "{'2'}"
      ]
     },
     "execution_count": 29,
     "metadata": {},
     "output_type": "execute_result"
    }
   ],
   "source": [
    "test"
   ]
  },
  {
   "cell_type": "code",
   "execution_count": 30,
   "id": "4d316338-f2a1-4c33-b7bd-1b0755466648",
   "metadata": {},
   "outputs": [],
   "source": [
    "a = 1\n",
    "b = 2"
   ]
  },
  {
   "cell_type": "code",
   "execution_count": 35,
   "id": "25d90ff8-cb7e-40c1-b5b7-334885b68219",
   "metadata": {},
   "outputs": [
    {
     "name": "stdout",
     "output_type": "stream",
     "text": [
      "2\n"
     ]
    }
   ],
   "source": [
    "if (a > b):\n",
    "    print(f'{a}')\n",
    "else:\n",
    "    print(f'{b}')"
   ]
  },
  {
   "cell_type": "code",
   "execution_count": 37,
   "id": "b7f33abe-059d-4fd8-8bc5-0ea2d3e8d4bd",
   "metadata": {},
   "outputs": [],
   "source": [
    "test = [1, 2, 3]"
   ]
  },
  {
   "cell_type": "code",
   "execution_count": 46,
   "id": "7a3e2313-2e95-406b-9b39-cbe2af1e9739",
   "metadata": {},
   "outputs": [
    {
     "name": "stdout",
     "output_type": "stream",
     "text": [
      "Nombre de tour = 0\n",
      "Nombre de tour = 1\n",
      "Nombre de tour = 2\n",
      "Nombre de tour = 3\n",
      "Nombre de tour = 4\n",
      "Nombre de tour = 5\n",
      "Nombre de tour = 6\n",
      "Nombre de tour = 7\n",
      "Nombre de tour = 8\n",
      "Nombre de tour = 9\n",
      "Nombre de tour = 10\n",
      "Nombre de tour = 11\n",
      "Nombre de tour = 12\n",
      "Nombre de tour = 13\n",
      "Nombre de tour = 14\n",
      "Nombre de tour = 15\n",
      "Nombre de tour = 16\n",
      "Nombre de tour = 17\n",
      "Nombre de tour = 18\n",
      "Nombre de tour = 19\n",
      "Nombre de tour = 20\n",
      "Nombre de tour = 21\n",
      "Nombre de tour = 22\n",
      "Nombre de tour = 23\n",
      "Nombre de tour = 24\n",
      "Nombre de tour = 25\n",
      "Nombre de tour = 26\n",
      "Nombre de tour = 27\n",
      "Nombre de tour = 28\n",
      "Nombre de tour = 29\n",
      "Nombre de tour = 30\n",
      "Nombre de tour = 31\n",
      "Nombre de tour = 32\n",
      "Nombre de tour = 33\n",
      "Nombre de tour = 34\n",
      "Nombre de tour = 35\n",
      "Nombre de tour = 36\n",
      "Nombre de tour = 37\n",
      "Nombre de tour = 38\n",
      "Nombre de tour = 39\n",
      "Nombre de tour = 40\n",
      "Nombre de tour = 41\n",
      "Nombre de tour = 42\n",
      "Nombre de tour = 43\n",
      "Nombre de tour = 44\n",
      "Nombre de tour = 45\n",
      "Nombre de tour = 46\n",
      "Nombre de tour = 47\n",
      "Nombre de tour = 48\n",
      "Nombre de tour = 49\n"
     ]
    }
   ],
   "source": [
    "for i in range(50):\n",
    "    print(f\"Nombre de tour = {i}\")"
   ]
  },
  {
   "cell_type": "code",
   "execution_count": 50,
   "id": "bc5de9ba-33f6-48b7-ba56-9227b90b0ed3",
   "metadata": {},
   "outputs": [
    {
     "name": "stdout",
     "output_type": "stream",
     "text": [
      "0\n",
      "1\n",
      "2\n",
      "3\n",
      "4\n",
      "5\n",
      "6\n",
      "7\n",
      "8\n",
      "9\n",
      "find the last digit ! = 10\n"
     ]
    }
   ],
   "source": [
    "last = 10\n",
    "count = 0\n",
    "while count < last:\n",
    "    print(count)\n",
    "    count = count + 1\n",
    "else:\n",
    "    if count == last:\n",
    "        print(f\"find the last digit ! = {count}\")"
   ]
  },
  {
   "cell_type": "code",
   "execution_count": 51,
   "id": "fd7f60d0-156c-449d-9d5f-a4cf9ed78faa",
   "metadata": {},
   "outputs": [],
   "source": [
    "a=\"test\""
   ]
  },
  {
   "cell_type": "code",
   "execution_count": 52,
   "id": "68b82fe7-6777-4c9a-97de-c35867eddc35",
   "metadata": {},
   "outputs": [
    {
     "data": {
      "text/plain": [
       "str"
      ]
     },
     "execution_count": 52,
     "metadata": {},
     "output_type": "execute_result"
    }
   ],
   "source": [
    "type(a)"
   ]
  },
  {
   "cell_type": "code",
   "execution_count": 53,
   "id": "607a95bc-39d3-426d-a959-21910ea4a3f2",
   "metadata": {},
   "outputs": [
    {
     "data": {
      "text/plain": [
       "'Test'"
      ]
     },
     "execution_count": 53,
     "metadata": {},
     "output_type": "execute_result"
    }
   ],
   "source": [
    "a.capitalize()"
   ]
  },
  {
   "cell_type": "code",
   "execution_count": 54,
   "id": "a638fdca-8bc7-4f9c-bcbf-636826b7fac0",
   "metadata": {},
   "outputs": [
    {
     "data": {
      "text/plain": [
       "'test'"
      ]
     },
     "execution_count": 54,
     "metadata": {},
     "output_type": "execute_result"
    }
   ],
   "source": [
    "a"
   ]
  },
  {
   "cell_type": "code",
   "execution_count": 56,
   "id": "103f7ef2-0aad-409f-8c3e-d90b6d5ba867",
   "metadata": {},
   "outputs": [
    {
     "data": {
      "text/plain": [
       "'Test'"
      ]
     },
     "execution_count": 56,
     "metadata": {},
     "output_type": "execute_result"
    }
   ],
   "source": [
    "a.capitalize()"
   ]
  },
  {
   "cell_type": "code",
   "execution_count": 60,
   "id": "6aeeecb2-32ad-4e9e-8525-3956c561e0ba",
   "metadata": {},
   "outputs": [
    {
     "ename": "TypeError",
     "evalue": "string indices must be integers",
     "output_type": "error",
     "traceback": [
      "\u001b[0;31m---------------------------------------------------------------------------\u001b[0m",
      "\u001b[0;31mTypeError\u001b[0m                                 Traceback (most recent call last)",
      "Cell \u001b[0;32mIn[60], line 2\u001b[0m\n\u001b[1;32m      1\u001b[0m \u001b[38;5;28;01mfor\u001b[39;00m i \u001b[38;5;129;01min\u001b[39;00m a:\n\u001b[0;32m----> 2\u001b[0m     a[i] \u001b[38;5;241m=\u001b[39m \u001b[43ma\u001b[49m\u001b[43m[\u001b[49m\u001b[43mi\u001b[49m\u001b[43m]\u001b[49m\u001b[38;5;241m.\u001b[39mcapitalize()\n",
      "\u001b[0;31mTypeError\u001b[0m: string indices must be integers"
     ]
    }
   ],
   "source": [
    "for i in a:\n",
    "    a[i] = a[i].capitalize()"
   ]
  },
  {
   "cell_type": "code",
   "execution_count": 61,
   "id": "b1b05a5d-eed2-483b-ba42-24945488d504",
   "metadata": {},
   "outputs": [
    {
     "ename": "TypeError",
     "evalue": "'str' object does not support item assignment",
     "output_type": "error",
     "traceback": [
      "\u001b[0;31m---------------------------------------------------------------------------\u001b[0m",
      "\u001b[0;31mTypeError\u001b[0m                                 Traceback (most recent call last)",
      "Cell \u001b[0;32mIn[61], line 1\u001b[0m\n\u001b[0;32m----> 1\u001b[0m \u001b[43ma\u001b[49m\u001b[43m[\u001b[49m\u001b[38;5;241;43m3\u001b[39;49m\u001b[43m]\u001b[49m \u001b[38;5;241m=\u001b[39m a[\u001b[38;5;241m3\u001b[39m]\u001b[38;5;241m.\u001b[39mcapitalize()\n",
      "\u001b[0;31mTypeError\u001b[0m: 'str' object does not support item assignment"
     ]
    }
   ],
   "source": [
    "a[3] = a[3].capitalize()"
   ]
  },
  {
   "cell_type": "code",
   "execution_count": 62,
   "id": "48711ecb-eed4-4ad2-9128-59fcb21ddaf1",
   "metadata": {},
   "outputs": [],
   "source": [
    "a = a.capitalize"
   ]
  },
  {
   "cell_type": "code",
   "execution_count": 66,
   "id": "4a9ca858-9b6b-400f-9fb9-f801fc93c110",
   "metadata": {},
   "outputs": [],
   "source": [
    "a = \"test\""
   ]
  },
  {
   "cell_type": "code",
   "execution_count": 70,
   "id": "e584d66a-8203-4149-ab0d-b1aafdb3ae50",
   "metadata": {},
   "outputs": [
    {
     "name": "stdout",
     "output_type": "stream",
     "text": [
      "t\n",
      "e\n",
      "s\n",
      "t\n"
     ]
    }
   ],
   "source": [
    "for i in a:\n",
    "    print(f\"{i}\")"
   ]
  },
  {
   "cell_type": "code",
   "execution_count": 77,
   "id": "0d750cfd-b672-446e-9303-6467d1bebe33",
   "metadata": {},
   "outputs": [],
   "source": [
    "def function():\n",
    "    print(\"Test\")"
   ]
  },
  {
   "cell_type": "code",
   "execution_count": 78,
   "id": "ce4a8fbf-35a1-4ebc-9611-7831facb9421",
   "metadata": {},
   "outputs": [
    {
     "name": "stdout",
     "output_type": "stream",
     "text": [
      "Test\n"
     ]
    }
   ],
   "source": [
    "function()"
   ]
  },
  {
   "cell_type": "code",
   "execution_count": 2,
   "id": "e8d33497-314e-4453-b60c-feadd4bcfe9f",
   "metadata": {},
   "outputs": [],
   "source": [
    "def somme_multi_div(num1, num2, opt):\n",
    "    if (opt == 0):\n",
    "        print(f\"U choose to add {num1} and {num2}\")\n",
    "        return num1 + num2\n",
    "    if (opt == 1):\n",
    "        print(f\"U choose to multiplie {num1} and {num2}\")\n",
    "        return num1 * num2\n",
    "    if (opt == 2):\n",
    "        print(f\"U choose to div {num1} and {num2}\")\n",
    "        return num1 / num2\n",
    "    if (opt != 1 & opt != 2 & opt != 0):\n",
    "        print(\"Enter a valid option\")"
   ]
  },
  {
   "cell_type": "code",
   "execution_count": 3,
   "id": "e0a5abca-04b9-4243-93a5-d4daaf7e4b51",
   "metadata": {},
   "outputs": [
    {
     "name": "stdout",
     "output_type": "stream",
     "text": [
      "U choose to div 1 and 2\n"
     ]
    },
    {
     "data": {
      "text/plain": [
       "0.5"
      ]
     },
     "execution_count": 3,
     "metadata": {},
     "output_type": "execute_result"
    }
   ],
   "source": [
    "somme_multi_div(1, 2, 2)"
   ]
  },
  {
   "cell_type": "code",
   "execution_count": 6,
   "id": "0767042a-f7de-4036-bf4f-a7f1345676c9",
   "metadata": {
    "scrolled": true
   },
   "outputs": [],
   "source": [
    "a = [1,2]"
   ]
  },
  {
   "cell_type": "code",
   "execution_count": 7,
   "id": "ef438123",
   "metadata": {},
   "outputs": [
    {
     "data": {
      "text/plain": [
       "list"
      ]
     },
     "execution_count": 7,
     "metadata": {},
     "output_type": "execute_result"
    }
   ],
   "source": [
    "type(a)"
   ]
  },
  {
   "cell_type": "code",
   "execution_count": 22,
   "id": "6254af60",
   "metadata": {},
   "outputs": [],
   "source": [
    "b = {1,2,\"bonjour\"}"
   ]
  },
  {
   "cell_type": "code",
   "execution_count": 30,
   "id": "b047f500",
   "metadata": {},
   "outputs": [
    {
     "name": "stdout",
     "output_type": "stream",
     "text": [
      "2\n",
      "[1, 2, 'bonjour', 2]\n"
     ]
    }
   ],
   "source": [
    "listb = list(b)\n",
    "type(listb)\n",
    "print(listb[1])\n",
    "listb.append(2)\n",
    "print(listb)"
   ]
  },
  {
   "cell_type": "code",
   "execution_count": 31,
   "id": "96fcec97",
   "metadata": {},
   "outputs": [],
   "source": [
    "a = \"bonjour\""
   ]
  },
  {
   "cell_type": "code",
   "execution_count": 32,
   "id": "779b158d",
   "metadata": {},
   "outputs": [
    {
     "name": "stdout",
     "output_type": "stream",
     "text": [
      "o\n"
     ]
    }
   ],
   "source": [
    "print(a[1])"
   ]
  },
  {
   "cell_type": "code",
   "execution_count": 14,
   "id": "f7481b3d",
   "metadata": {},
   "outputs": [
    {
     "name": "stdout",
     "output_type": "stream",
     "text": [
      "{1: 'premier', 2: 'deuxieme'}\n"
     ]
    }
   ],
   "source": [
    "print(a)"
   ]
  },
  {
   "cell_type": "code",
   "execution_count": 18,
   "id": "9512fc83",
   "metadata": {},
   "outputs": [
    {
     "name": "stdout",
     "output_type": "stream",
     "text": [
      "premier\n"
     ]
    }
   ],
   "source": [
    "print(a[1])"
   ]
  },
  {
   "cell_type": "code",
   "execution_count": 45,
   "id": "b7241126",
   "metadata": {},
   "outputs": [],
   "source": [
    "def count(name, lettre):\n",
    "    for i in range(len(name)):\n",
    "        if (lettre == name[i]):\n",
    "            return i"
   ]
  },
  {
   "cell_type": "code",
   "execution_count": 46,
   "id": "18f0465a",
   "metadata": {},
   "outputs": [
    {
     "data": {
      "text/plain": [
       "1"
      ]
     },
     "execution_count": 46,
     "metadata": {},
     "output_type": "execute_result"
    }
   ],
   "source": [
    "count(\"bonjour\", \"o\")"
   ]
  },
  {
   "cell_type": "code",
   "execution_count": 47,
   "id": "37b09328",
   "metadata": {},
   "outputs": [],
   "source": [
    "class Utilisateur():\n",
    "    def __init__(self, prenom, nom, age):\n",
    "        self.prenom=prenom\n",
    "        self.nom=nom\n",
    "        self.age=age\n",
    "    def bonjour(self):\n",
    "        return f\"Je m'apelle {self.prenom} {self.nom}\"\n",
    "    def mon_age(self):\n",
    "        return f\"mon age est {self.age}\""
   ]
  },
  {
   "cell_type": "code",
   "execution_count": 48,
   "id": "4f920a7b",
   "metadata": {},
   "outputs": [],
   "source": [
    "utilisateur1=Utilisateur(\"Quentin\", \"Bolloré\", 19)"
   ]
  },
  {
   "cell_type": "code",
   "execution_count": 51,
   "id": "ab657920",
   "metadata": {},
   "outputs": [
    {
     "data": {
      "text/plain": [
       "\"Je m'apelle Quentin Bolloré\""
      ]
     },
     "execution_count": 51,
     "metadata": {},
     "output_type": "execute_result"
    }
   ],
   "source": [
    "utilisateur1.bonjour()"
   ]
  },
  {
   "cell_type": "code",
   "execution_count": 54,
   "id": "25b74fa9",
   "metadata": {},
   "outputs": [
    {
     "data": {
      "text/plain": [
       "'mon age est 19'"
      ]
     },
     "execution_count": 54,
     "metadata": {},
     "output_type": "execute_result"
    }
   ],
   "source": [
    "utilisateur1.mon_age()"
   ]
  },
  {
   "cell_type": "code",
   "execution_count": 66,
   "id": "45abdd28",
   "metadata": {},
   "outputs": [],
   "source": [
    "class Client(Utilisateur):\n",
    "    def __init__(self, prenom, nom, age):\n",
    "        self.prenom=prenom\n",
    "        self.nom=nom\n",
    "        self.age=age\n",
    "        self.solde=0\n",
    "    def mon_solde(self, solde):\n",
    "        self.solde = solde\n",
    "    def bonjour(self):\n",
    "        return f\"Je m'apelle {self.prenom} {self.nom} et mon solde est de {self.solde}\"\n",
    "    "
   ]
  },
  {
   "cell_type": "code",
   "execution_count": 56,
   "id": "3a0a74ef",
   "metadata": {},
   "outputs": [],
   "source": [
    "client1=Client(\"Quentin\", \"Bolloré\", 40)"
   ]
  },
  {
   "cell_type": "code",
   "execution_count": 60,
   "id": "410f9d76",
   "metadata": {},
   "outputs": [
    {
     "data": {
      "text/plain": [
       "'mon age est 40'"
      ]
     },
     "execution_count": 60,
     "metadata": {},
     "output_type": "execute_result"
    }
   ],
   "source": [
    "client1.mon_age()"
   ]
  },
  {
   "cell_type": "code",
   "execution_count": 68,
   "id": "340c5e3d",
   "metadata": {},
   "outputs": [],
   "source": [
    "client1.mon_solde(400)"
   ]
  },
  {
   "cell_type": "code",
   "execution_count": 69,
   "id": "fd51cd24",
   "metadata": {},
   "outputs": [
    {
     "name": "stdout",
     "output_type": "stream",
     "text": [
      "Je m'apelle Quentin Bolloré et mon solde est de 400\n"
     ]
    }
   ],
   "source": [
    "client1.bonjour()"
   ]
  },
  {
   "cell_type": "code",
   "execution_count": 64,
   "id": "047877aa",
   "metadata": {},
   "outputs": [
    {
     "data": {
      "text/plain": [
       "\"Je m'apelle Quentin Bolloré\""
      ]
     },
     "execution_count": 64,
     "metadata": {},
     "output_type": "execute_result"
    }
   ],
   "source": [
    "utilisateur1.bonjour()"
   ]
  },
  {
   "cell_type": "code",
   "execution_count": 72,
   "id": "2f79224b",
   "metadata": {},
   "outputs": [
    {
     "name": "stdout",
     "output_type": "stream",
     "text": [
      "Collecting jupyterthemes\n",
      "  Downloading jupyterthemes-0.20.0-py2.py3-none-any.whl (7.0 MB)\n",
      "\u001b[2K     \u001b[38;2;114;156;31m━━━━━━━━━━━━━━━━━━━━━━━━━━━━━━━━━━━━━━━━\u001b[0m \u001b[32m7.0/7.0 MB\u001b[0m \u001b[31m10.7 MB/s\u001b[0m eta \u001b[36m0:00:00\u001b[0mm eta \u001b[36m0:00:01\u001b[0m0:01\u001b[0m:01\u001b[0m\n",
      "\u001b[?25hRequirement already satisfied: jupyter-core in /home/bollore/.local/lib/python3.10/site-packages (from jupyterthemes) (5.3.0)\n",
      "Requirement already satisfied: notebook>=5.6.0 in /home/bollore/anaconda3/lib/python3.10/site-packages (from jupyterthemes) (6.5.2)\n",
      "Requirement already satisfied: ipython>=5.4.1 in /home/bollore/.local/lib/python3.10/site-packages (from jupyterthemes) (8.13.2)\n",
      "Requirement already satisfied: matplotlib>=1.4.3 in /home/bollore/anaconda3/lib/python3.10/site-packages (from jupyterthemes) (3.7.0)\n",
      "Collecting lesscpy>=0.11.2 (from jupyterthemes)\n",
      "  Downloading lesscpy-0.15.1-py2.py3-none-any.whl (46 kB)\n",
      "\u001b[2K     \u001b[38;2;114;156;31m━━━━━━━━━━━━━━━━━━━━━━━━━━━━━━━━━━━━━━━━\u001b[0m \u001b[32m46.7/46.7 kB\u001b[0m \u001b[31m7.0 MB/s\u001b[0m eta \u001b[36m0:00:00\u001b[0m\n",
      "\u001b[?25hRequirement already satisfied: backcall in /home/bollore/.local/lib/python3.10/site-packages (from ipython>=5.4.1->jupyterthemes) (0.2.0)\n",
      "Requirement already satisfied: decorator in /home/bollore/anaconda3/lib/python3.10/site-packages (from ipython>=5.4.1->jupyterthemes) (5.1.1)\n",
      "Requirement already satisfied: jedi>=0.16 in /home/bollore/.local/lib/python3.10/site-packages (from ipython>=5.4.1->jupyterthemes) (0.18.2)\n",
      "Requirement already satisfied: matplotlib-inline in /home/bollore/.local/lib/python3.10/site-packages (from ipython>=5.4.1->jupyterthemes) (0.1.6)\n",
      "Requirement already satisfied: pickleshare in /home/bollore/.local/lib/python3.10/site-packages (from ipython>=5.4.1->jupyterthemes) (0.7.5)\n",
      "Requirement already satisfied: prompt-toolkit!=3.0.37,<3.1.0,>=3.0.30 in /home/bollore/.local/lib/python3.10/site-packages (from ipython>=5.4.1->jupyterthemes) (3.0.38)\n",
      "Requirement already satisfied: pygments>=2.4.0 in /home/bollore/anaconda3/lib/python3.10/site-packages (from ipython>=5.4.1->jupyterthemes) (2.11.2)\n",
      "Requirement already satisfied: stack-data in /home/bollore/.local/lib/python3.10/site-packages (from ipython>=5.4.1->jupyterthemes) (0.6.2)\n",
      "Requirement already satisfied: traitlets>=5 in /home/bollore/.local/lib/python3.10/site-packages (from ipython>=5.4.1->jupyterthemes) (5.9.0)\n",
      "Requirement already satisfied: pexpect>4.3 in /home/bollore/anaconda3/lib/python3.10/site-packages (from ipython>=5.4.1->jupyterthemes) (4.8.0)\n",
      "Requirement already satisfied: ply in /home/bollore/anaconda3/lib/python3.10/site-packages (from lesscpy>=0.11.2->jupyterthemes) (3.11)\n",
      "Requirement already satisfied: contourpy>=1.0.1 in /home/bollore/anaconda3/lib/python3.10/site-packages (from matplotlib>=1.4.3->jupyterthemes) (1.0.5)\n",
      "Requirement already satisfied: cycler>=0.10 in /home/bollore/anaconda3/lib/python3.10/site-packages (from matplotlib>=1.4.3->jupyterthemes) (0.11.0)\n",
      "Requirement already satisfied: fonttools>=4.22.0 in /home/bollore/anaconda3/lib/python3.10/site-packages (from matplotlib>=1.4.3->jupyterthemes) (4.25.0)\n",
      "Requirement already satisfied: kiwisolver>=1.0.1 in /home/bollore/anaconda3/lib/python3.10/site-packages (from matplotlib>=1.4.3->jupyterthemes) (1.4.4)\n",
      "Requirement already satisfied: numpy>=1.20 in /home/bollore/anaconda3/lib/python3.10/site-packages (from matplotlib>=1.4.3->jupyterthemes) (1.23.5)\n",
      "Requirement already satisfied: packaging>=20.0 in /home/bollore/anaconda3/lib/python3.10/site-packages (from matplotlib>=1.4.3->jupyterthemes) (22.0)\n",
      "Requirement already satisfied: pillow>=6.2.0 in /home/bollore/anaconda3/lib/python3.10/site-packages (from matplotlib>=1.4.3->jupyterthemes) (9.4.0)\n",
      "Requirement already satisfied: pyparsing>=2.3.1 in /home/bollore/anaconda3/lib/python3.10/site-packages (from matplotlib>=1.4.3->jupyterthemes) (3.0.9)\n",
      "Requirement already satisfied: python-dateutil>=2.7 in /home/bollore/.local/lib/python3.10/site-packages (from matplotlib>=1.4.3->jupyterthemes) (2.8.2)\n",
      "Requirement already satisfied: jinja2 in /home/bollore/anaconda3/lib/python3.10/site-packages (from notebook>=5.6.0->jupyterthemes) (3.1.2)\n",
      "Requirement already satisfied: tornado>=6.1 in /home/bollore/.local/lib/python3.10/site-packages (from notebook>=5.6.0->jupyterthemes) (6.3.2)\n",
      "Requirement already satisfied: pyzmq>=17 in /home/bollore/.local/lib/python3.10/site-packages (from notebook>=5.6.0->jupyterthemes) (25.1.0)\n",
      "Requirement already satisfied: argon2-cffi in /home/bollore/.local/lib/python3.10/site-packages (from notebook>=5.6.0->jupyterthemes) (21.3.0)\n",
      "Requirement already satisfied: jupyter-client>=5.3.4 in /home/bollore/.local/lib/python3.10/site-packages (from notebook>=5.6.0->jupyterthemes) (8.2.0)\n",
      "Requirement already satisfied: ipython-genutils in /home/bollore/anaconda3/lib/python3.10/site-packages (from notebook>=5.6.0->jupyterthemes) (0.2.0)\n",
      "Requirement already satisfied: nbformat in /home/bollore/.local/lib/python3.10/site-packages (from notebook>=5.6.0->jupyterthemes) (5.8.0)\n",
      "Requirement already satisfied: nbconvert>=5 in /home/bollore/.local/lib/python3.10/site-packages (from notebook>=5.6.0->jupyterthemes) (7.4.0)\n",
      "Requirement already satisfied: nest-asyncio>=1.5 in /home/bollore/.local/lib/python3.10/site-packages (from notebook>=5.6.0->jupyterthemes) (1.5.6)\n",
      "Requirement already satisfied: ipykernel in /home/bollore/.local/lib/python3.10/site-packages (from notebook>=5.6.0->jupyterthemes) (6.23.1)\n",
      "Requirement already satisfied: Send2Trash>=1.8.0 in /home/bollore/.local/lib/python3.10/site-packages (from notebook>=5.6.0->jupyterthemes) (1.8.2)\n",
      "Requirement already satisfied: terminado>=0.8.3 in /home/bollore/.local/lib/python3.10/site-packages (from notebook>=5.6.0->jupyterthemes) (0.17.1)\n",
      "Requirement already satisfied: prometheus-client in /home/bollore/.local/lib/python3.10/site-packages (from notebook>=5.6.0->jupyterthemes) (0.17.0)\n",
      "Requirement already satisfied: nbclassic>=0.4.7 in /home/bollore/anaconda3/lib/python3.10/site-packages (from notebook>=5.6.0->jupyterthemes) (0.5.2)\n",
      "Requirement already satisfied: platformdirs>=2.5 in /home/bollore/.local/lib/python3.10/site-packages (from jupyter-core->jupyterthemes) (3.5.1)\n",
      "Requirement already satisfied: parso<0.9.0,>=0.8.0 in /home/bollore/.local/lib/python3.10/site-packages (from jedi>=0.16->ipython>=5.4.1->jupyterthemes) (0.8.3)\n",
      "Requirement already satisfied: jupyter-server>=1.8 in /home/bollore/.local/lib/python3.10/site-packages (from nbclassic>=0.4.7->notebook>=5.6.0->jupyterthemes) (2.6.0)\n",
      "Requirement already satisfied: notebook-shim>=0.1.0 in /home/bollore/.local/lib/python3.10/site-packages (from nbclassic>=0.4.7->notebook>=5.6.0->jupyterthemes) (0.2.3)\n",
      "Requirement already satisfied: beautifulsoup4 in /home/bollore/anaconda3/lib/python3.10/site-packages (from nbconvert>=5->notebook>=5.6.0->jupyterthemes) (4.11.1)\n",
      "Requirement already satisfied: bleach in /home/bollore/.local/lib/python3.10/site-packages (from nbconvert>=5->notebook>=5.6.0->jupyterthemes) (6.0.0)\n",
      "Requirement already satisfied: defusedxml in /home/bollore/anaconda3/lib/python3.10/site-packages (from nbconvert>=5->notebook>=5.6.0->jupyterthemes) (0.7.1)\n",
      "Requirement already satisfied: jupyterlab-pygments in /home/bollore/.local/lib/python3.10/site-packages (from nbconvert>=5->notebook>=5.6.0->jupyterthemes) (0.2.2)\n",
      "Requirement already satisfied: markupsafe>=2.0 in /home/bollore/anaconda3/lib/python3.10/site-packages (from nbconvert>=5->notebook>=5.6.0->jupyterthemes) (2.1.1)\n",
      "Requirement already satisfied: mistune<3,>=2.0.3 in /home/bollore/.local/lib/python3.10/site-packages (from nbconvert>=5->notebook>=5.6.0->jupyterthemes) (2.0.5)\n",
      "Requirement already satisfied: nbclient>=0.5.0 in /home/bollore/.local/lib/python3.10/site-packages (from nbconvert>=5->notebook>=5.6.0->jupyterthemes) (0.8.0)\n",
      "Requirement already satisfied: pandocfilters>=1.4.1 in /home/bollore/.local/lib/python3.10/site-packages (from nbconvert>=5->notebook>=5.6.0->jupyterthemes) (1.5.0)\n",
      "Requirement already satisfied: tinycss2 in /home/bollore/anaconda3/lib/python3.10/site-packages (from nbconvert>=5->notebook>=5.6.0->jupyterthemes) (1.2.1)\n",
      "Requirement already satisfied: fastjsonschema in /home/bollore/.local/lib/python3.10/site-packages (from nbformat->notebook>=5.6.0->jupyterthemes) (2.17.1)\n",
      "Requirement already satisfied: jsonschema>=2.6 in /home/bollore/.local/lib/python3.10/site-packages (from nbformat->notebook>=5.6.0->jupyterthemes) (4.17.3)\n",
      "Requirement already satisfied: ptyprocess>=0.5 in /home/bollore/anaconda3/lib/python3.10/site-packages (from pexpect>4.3->ipython>=5.4.1->jupyterthemes) (0.7.0)\n"
     ]
    },
    {
     "name": "stdout",
     "output_type": "stream",
     "text": [
      "Requirement already satisfied: wcwidth in /home/bollore/.local/lib/python3.10/site-packages (from prompt-toolkit!=3.0.37,<3.1.0,>=3.0.30->ipython>=5.4.1->jupyterthemes) (0.2.6)\n",
      "Requirement already satisfied: six>=1.5 in /home/bollore/anaconda3/lib/python3.10/site-packages (from python-dateutil>=2.7->matplotlib>=1.4.3->jupyterthemes) (1.16.0)\n",
      "Requirement already satisfied: argon2-cffi-bindings in /home/bollore/.local/lib/python3.10/site-packages (from argon2-cffi->notebook>=5.6.0->jupyterthemes) (21.2.0)\n",
      "Requirement already satisfied: comm>=0.1.1 in /home/bollore/.local/lib/python3.10/site-packages (from ipykernel->notebook>=5.6.0->jupyterthemes) (0.1.3)\n",
      "Requirement already satisfied: debugpy>=1.6.5 in /home/bollore/.local/lib/python3.10/site-packages (from ipykernel->notebook>=5.6.0->jupyterthemes) (1.6.7)\n",
      "Requirement already satisfied: psutil in /home/bollore/anaconda3/lib/python3.10/site-packages (from ipykernel->notebook>=5.6.0->jupyterthemes) (5.9.0)\n",
      "Requirement already satisfied: executing>=1.2.0 in /home/bollore/.local/lib/python3.10/site-packages (from stack-data->ipython>=5.4.1->jupyterthemes) (1.2.0)\n",
      "Requirement already satisfied: asttokens>=2.1.0 in /home/bollore/.local/lib/python3.10/site-packages (from stack-data->ipython>=5.4.1->jupyterthemes) (2.2.1)\n",
      "Requirement already satisfied: pure-eval in /home/bollore/.local/lib/python3.10/site-packages (from stack-data->ipython>=5.4.1->jupyterthemes) (0.2.2)\n",
      "Requirement already satisfied: attrs>=17.4.0 in /home/bollore/anaconda3/lib/python3.10/site-packages (from jsonschema>=2.6->nbformat->notebook>=5.6.0->jupyterthemes) (22.1.0)\n",
      "Requirement already satisfied: pyrsistent!=0.17.0,!=0.17.1,!=0.17.2,>=0.14.0 in /home/bollore/anaconda3/lib/python3.10/site-packages (from jsonschema>=2.6->nbformat->notebook>=5.6.0->jupyterthemes) (0.18.0)\n",
      "Requirement already satisfied: anyio>=3.1.0 in /home/bollore/.local/lib/python3.10/site-packages (from jupyter-server>=1.8->nbclassic>=0.4.7->notebook>=5.6.0->jupyterthemes) (3.7.0)\n",
      "Requirement already satisfied: jupyter-events>=0.6.0 in /home/bollore/.local/lib/python3.10/site-packages (from jupyter-server>=1.8->nbclassic>=0.4.7->notebook>=5.6.0->jupyterthemes) (0.6.3)\n",
      "Requirement already satisfied: jupyter-server-terminals in /home/bollore/.local/lib/python3.10/site-packages (from jupyter-server>=1.8->nbclassic>=0.4.7->notebook>=5.6.0->jupyterthemes) (0.4.4)\n",
      "Requirement already satisfied: overrides in /home/bollore/.local/lib/python3.10/site-packages (from jupyter-server>=1.8->nbclassic>=0.4.7->notebook>=5.6.0->jupyterthemes) (7.3.1)\n",
      "Requirement already satisfied: websocket-client in /home/bollore/anaconda3/lib/python3.10/site-packages (from jupyter-server>=1.8->nbclassic>=0.4.7->notebook>=5.6.0->jupyterthemes) (0.58.0)\n",
      "Requirement already satisfied: cffi>=1.0.1 in /home/bollore/anaconda3/lib/python3.10/site-packages (from argon2-cffi-bindings->argon2-cffi->notebook>=5.6.0->jupyterthemes) (1.15.1)\n",
      "Requirement already satisfied: soupsieve>1.2 in /home/bollore/anaconda3/lib/python3.10/site-packages (from beautifulsoup4->nbconvert>=5->notebook>=5.6.0->jupyterthemes) (2.3.2.post1)\n",
      "Requirement already satisfied: webencodings in /home/bollore/anaconda3/lib/python3.10/site-packages (from bleach->nbconvert>=5->notebook>=5.6.0->jupyterthemes) (0.5.1)\n",
      "Requirement already satisfied: idna>=2.8 in /home/bollore/anaconda3/lib/python3.10/site-packages (from anyio>=3.1.0->jupyter-server>=1.8->nbclassic>=0.4.7->notebook>=5.6.0->jupyterthemes) (3.4)\n",
      "Requirement already satisfied: sniffio>=1.1 in /home/bollore/.local/lib/python3.10/site-packages (from anyio>=3.1.0->jupyter-server>=1.8->nbclassic>=0.4.7->notebook>=5.6.0->jupyterthemes) (1.3.0)\n",
      "Requirement already satisfied: exceptiongroup in /home/bollore/.local/lib/python3.10/site-packages (from anyio>=3.1.0->jupyter-server>=1.8->nbclassic>=0.4.7->notebook>=5.6.0->jupyterthemes) (1.1.1)\n",
      "Requirement already satisfied: pycparser in /home/bollore/anaconda3/lib/python3.10/site-packages (from cffi>=1.0.1->argon2-cffi-bindings->argon2-cffi->notebook>=5.6.0->jupyterthemes) (2.21)\n",
      "Requirement already satisfied: python-json-logger>=2.0.4 in /home/bollore/.local/lib/python3.10/site-packages (from jupyter-events>=0.6.0->jupyter-server>=1.8->nbclassic>=0.4.7->notebook>=5.6.0->jupyterthemes) (2.0.7)\n",
      "Requirement already satisfied: pyyaml>=5.3 in /home/bollore/anaconda3/lib/python3.10/site-packages (from jupyter-events>=0.6.0->jupyter-server>=1.8->nbclassic>=0.4.7->notebook>=5.6.0->jupyterthemes) (6.0)\n",
      "Requirement already satisfied: rfc3339-validator in /home/bollore/.local/lib/python3.10/site-packages (from jupyter-events>=0.6.0->jupyter-server>=1.8->nbclassic>=0.4.7->notebook>=5.6.0->jupyterthemes) (0.1.4)\n",
      "Requirement already satisfied: rfc3986-validator>=0.1.1 in /home/bollore/.local/lib/python3.10/site-packages (from jupyter-events>=0.6.0->jupyter-server>=1.8->nbclassic>=0.4.7->notebook>=5.6.0->jupyterthemes) (0.1.1)\n",
      "Requirement already satisfied: fqdn in /home/bollore/.local/lib/python3.10/site-packages (from jsonschema>=2.6->nbformat->notebook>=5.6.0->jupyterthemes) (1.5.1)\n",
      "Requirement already satisfied: isoduration in /home/bollore/.local/lib/python3.10/site-packages (from jsonschema>=2.6->nbformat->notebook>=5.6.0->jupyterthemes) (20.11.0)\n",
      "Requirement already satisfied: jsonpointer>1.13 in /home/bollore/.local/lib/python3.10/site-packages (from jsonschema>=2.6->nbformat->notebook>=5.6.0->jupyterthemes) (2.3)\n",
      "Requirement already satisfied: uri-template in /home/bollore/.local/lib/python3.10/site-packages (from jsonschema>=2.6->nbformat->notebook>=5.6.0->jupyterthemes) (1.2.0)\n",
      "Requirement already satisfied: webcolors>=1.11 in /home/bollore/.local/lib/python3.10/site-packages (from jsonschema>=2.6->nbformat->notebook>=5.6.0->jupyterthemes) (1.13)\n",
      "Requirement already satisfied: arrow>=0.15.0 in /home/bollore/.local/lib/python3.10/site-packages (from isoduration->jsonschema>=2.6->nbformat->notebook>=5.6.0->jupyterthemes) (1.2.3)\n",
      "Installing collected packages: lesscpy, jupyterthemes\n",
      "Successfully installed jupyterthemes-0.20.0 lesscpy-0.15.1\n",
      "Note: you may need to restart the kernel to use updated packages.\n"
     ]
    }
   ],
   "source": [
    "pip install jupyterthemes"
   ]
  },
  {
   "cell_type": "code",
   "execution_count": 1,
   "id": "bbdef77a",
   "metadata": {},
   "outputs": [],
   "source": [
    "import pandas as pd"
   ]
  },
  {
   "cell_type": "code",
   "execution_count": 3,
   "id": "6ca7e74e",
   "metadata": {},
   "outputs": [],
   "source": [
    "from sklearn.linear_model import LinearRegression"
   ]
  },
  {
   "cell_type": "code",
   "execution_count": null,
   "id": "2bd2b01c",
   "metadata": {},
   "outputs": [],
   "source": []
  }
 ],
 "metadata": {
  "kernelspec": {
   "display_name": "Python 3 (ipykernel)",
   "language": "python",
   "name": "python3"
  },
  "language_info": {
   "codemirror_mode": {
    "name": "ipython",
    "version": 3
   },
   "file_extension": ".py",
   "mimetype": "text/x-python",
   "name": "python",
   "nbconvert_exporter": "python",
   "pygments_lexer": "ipython3",
   "version": "3.10.9"
  }
 },
 "nbformat": 4,
 "nbformat_minor": 5
}
